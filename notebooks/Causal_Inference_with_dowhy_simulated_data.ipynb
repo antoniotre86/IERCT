{
  "nbformat": 4,
  "nbformat_minor": 0,
  "metadata": {
    "colab": {
      "name": "Causal Inference with dowhy - simulated data.ipynb",
      "provenance": [],
      "collapsed_sections": [],
      "toc_visible": true,
      "authorship_tag": "ABX9TyOiQ+piREPyVzgnoXrgqze7",
      "include_colab_link": true
    },
    "kernelspec": {
      "name": "python3",
      "display_name": "Python 3"
    },
    "language_info": {
      "name": "python"
    }
  },
  "cells": [
    {
      "cell_type": "markdown",
      "metadata": {
        "id": "view-in-github",
        "colab_type": "text"
      },
      "source": [
        "<a href=\"https://colab.research.google.com/github/antoniotre86/IERCT/blob/master/notebooks/Causal_Inference_with_dowhy_simulated_data.ipynb\" target=\"_parent\"><img src=\"https://colab.research.google.com/assets/colab-badge.svg\" alt=\"Open In Colab\"/></a>"
      ]
    },
    {
      "cell_type": "markdown",
      "metadata": {
        "id": "6q5hPCH0zOe0"
      },
      "source": [
        "# Demo: Causal Inference with DoWhy - Simulated Data\n",
        "\n",
        "We simulate two scenarios based on the exercise / cholesterol example. \n",
        "\n",
        "* In **Scenario 1** we make *exercise* have a causal effect on *cholesterol*;\n",
        "* in **Scenario 2** *exercise* does not have a causal effect on *cholesterol*.\n",
        "\n",
        "We introduce a couple of confounding factors to make things interesting. We assume that these are the only confounding factors at play:\n",
        "* *occupation* (\"stormtrooper\" or \"radar technician\")\n",
        "* *age* in decades\n",
        "* *healthy diet*: binary, which depends on *Occupation*\n",
        "\n",
        "In both scenarios *exercise* and *cholesterol* are influenced by *age*, while *exercise* is influenced by *occupation* and *cholesterol* is influenced by *healthy diet* (and indirectly by *occupation* through it). \n",
        "\n",
        "We will see how *exercise* and *cholesterol* appear correlated in both scenarios, and with statistical significance. But using propensity score stratification we will be able to uncover the true causal effects. \n",
        "\n",
        "We will also apply the refutation methods to validate our results. \n",
        "\n",
        "---\n",
        "\n",
        "**Inference steps**:\n",
        "1. Define the causal graphical model\n",
        "2. Initialise the dowhy model by passing the training data and the graphical model in string dot format\n",
        "3. Run `.identify_estimand` for the dowhy model to identify the possible methods of inference (we will use \"backdoor.propensity_score_stratification\")\n",
        "4. Run `.estimate` to obtain the estimated causal effect\n",
        "5. Refute estimate by running built-in refutation methods.\n",
        "\n",
        "--- \n",
        "\n",
        "We are going to use [dowhy](https://github.com/microsoft/dowhy) which takes as input:\n",
        "- training data\n",
        "- causal graphical model (dot format)\n",
        "\n",
        "---\n"
      ]
    },
    {
      "cell_type": "markdown",
      "metadata": {
        "id": "NByb3YxB4ZV1"
      },
      "source": [
        "Install the required dependencies"
      ]
    },
    {
      "cell_type": "code",
      "metadata": {
        "colab": {
          "base_uri": "https://localhost:8080/"
        },
        "id": "9J4IIRj1o9qR",
        "outputId": "b2c998bb-2ccb-4f5d-df23-c05e3cc85d3c"
      },
      "source": [
        "!pip install dowhy\n",
        "!apt-get install graphviz\n",
        "!pip install graphviz"
      ],
      "execution_count": null,
      "outputs": [
        {
          "output_type": "stream",
          "name": "stdout",
          "text": [
            "Requirement already satisfied: dowhy in /usr/local/lib/python3.7/dist-packages (0.6)\n",
            "Requirement already satisfied: pandas>=0.24 in /usr/local/lib/python3.7/dist-packages (from dowhy) (1.1.5)\n",
            "Requirement already satisfied: scikit-learn in /usr/local/lib/python3.7/dist-packages (from dowhy) (0.22.2.post1)\n",
            "Requirement already satisfied: networkx>=2.0 in /usr/local/lib/python3.7/dist-packages (from dowhy) (2.6.2)\n",
            "Requirement already satisfied: sympy>=1.4 in /usr/local/lib/python3.7/dist-packages (from dowhy) (1.7.1)\n",
            "Requirement already satisfied: scipy in /usr/local/lib/python3.7/dist-packages (from dowhy) (1.4.1)\n",
            "Requirement already satisfied: numpy>=1.15 in /usr/local/lib/python3.7/dist-packages (from dowhy) (1.19.5)\n",
            "Requirement already satisfied: statsmodels in /usr/local/lib/python3.7/dist-packages (from dowhy) (0.10.2)\n",
            "Requirement already satisfied: pydot>=1.4 in /usr/local/lib/python3.7/dist-packages (from dowhy) (1.4.2)\n",
            "Requirement already satisfied: python-dateutil>=2.7.3 in /usr/local/lib/python3.7/dist-packages (from pandas>=0.24->dowhy) (2.8.2)\n",
            "Requirement already satisfied: pytz>=2017.2 in /usr/local/lib/python3.7/dist-packages (from pandas>=0.24->dowhy) (2018.9)\n",
            "Requirement already satisfied: pyparsing>=2.1.4 in /usr/local/lib/python3.7/dist-packages (from pydot>=1.4->dowhy) (2.4.7)\n",
            "Requirement already satisfied: six>=1.5 in /usr/local/lib/python3.7/dist-packages (from python-dateutil>=2.7.3->pandas>=0.24->dowhy) (1.15.0)\n",
            "Requirement already satisfied: mpmath>=0.19 in /usr/local/lib/python3.7/dist-packages (from sympy>=1.4->dowhy) (1.2.1)\n",
            "Requirement already satisfied: joblib>=0.11 in /usr/local/lib/python3.7/dist-packages (from scikit-learn->dowhy) (1.0.1)\n",
            "Requirement already satisfied: patsy>=0.4.0 in /usr/local/lib/python3.7/dist-packages (from statsmodels->dowhy) (0.5.1)\n",
            "Reading package lists... Done\n",
            "Building dependency tree       \n",
            "Reading state information... Done\n",
            "graphviz is already the newest version (2.40.1-2).\n",
            "0 upgraded, 0 newly installed, 0 to remove and 40 not upgraded.\n",
            "Requirement already satisfied: graphviz in /usr/local/lib/python3.7/dist-packages (0.10.1)\n"
          ]
        }
      ]
    },
    {
      "cell_type": "code",
      "metadata": {
        "colab": {
          "base_uri": "https://localhost:8080/"
        },
        "id": "bMwzUtKdo_7B",
        "outputId": "58e9cd99-f65b-45c6-a4b7-67368ee5689d"
      },
      "source": [
        "import pandas as pd\n",
        "import numpy as np\n",
        "import dowhy\n",
        "from dowhy import CausalModel\n",
        "from graphviz import Source\n",
        "from scipy.stats import ttest_ind\n",
        "\n",
        "print(pd.__version__)\n",
        "print(np.__version__)\n",
        "print(dowhy.__version__)"
      ],
      "execution_count": null,
      "outputs": [
        {
          "output_type": "stream",
          "name": "stdout",
          "text": [
            "1.1.5\n",
            "1.19.5\n",
            "0.6\n"
          ]
        }
      ]
    },
    {
      "cell_type": "code",
      "metadata": {
        "id": "TkO9cSXzGOR-"
      },
      "source": [
        "pd.set_option(\"precision\", 3)"
      ],
      "execution_count": null,
      "outputs": []
    },
    {
      "cell_type": "code",
      "metadata": {
        "id": "8Naj0IMLpFe-"
      },
      "source": [
        "# This prevents sklearn from printing a lot of warnings (copied from dowhy example notebooks)\n",
        "import warnings\n",
        "from sklearn.exceptions import DataConversionWarning, ConvergenceWarning\n",
        "warnings.filterwarnings(action='ignore', category=DataConversionWarning)\n",
        "warnings.filterwarnings(action='ignore', category=ConvergenceWarning)\n",
        "warnings.filterwarnings(action='ignore', category=UserWarning)"
      ],
      "execution_count": null,
      "outputs": []
    },
    {
      "cell_type": "markdown",
      "metadata": {
        "id": "Nk29u7a84nDD"
      },
      "source": [
        "## Define the graphical model\n",
        "\n",
        "One option is to define it as a string in dot format (really an option for small graphs only).\n",
        "\n",
        "Another option is to use [dagitty.net](http://www.dagitty.net/dags.html) -- allows you to create complex graphs by point-and-click. You can then export the textual version of it, which can be converted to dot fairly easily.\n",
        "\n",
        "We go for the first option here as the graph is simple enough."
      ]
    },
    {
      "cell_type": "code",
      "metadata": {
        "colab": {
          "base_uri": "https://localhost:8080/",
          "height": 272
        },
        "id": "rTYcIiLs4yN7",
        "outputId": "319f771b-49ea-4498-a45e-7830e8c5f444"
      },
      "source": [
        "graph_s = \"\"\"\n",
        "digraph {\n",
        "  exercise;\n",
        "  cholesterol;\n",
        "  age_years;\n",
        "  occupation;\n",
        "  healthy_diet;\n",
        "  age_years -> exercise;\n",
        "  age_years -> cholesterol;\n",
        "  occupation -> exercise;\n",
        "  occupation -> healthy_diet;\n",
        "  healthy_diet -> cholesterol;\n",
        "  exercise -> cholesterol;\n",
        "}\n",
        "\"\"\"\n",
        "\n",
        "dag = Source(graph_s)\n",
        "\n",
        "dag"
      ],
      "execution_count": null,
      "outputs": [
        {
          "output_type": "execute_result",
          "data": {
            "text/plain": [
              "<graphviz.files.Source at 0x7f3d9ca0e250>"
            ],
            "image/svg+xml": "<?xml version=\"1.0\" encoding=\"UTF-8\" standalone=\"no\"?>\n<!DOCTYPE svg PUBLIC \"-//W3C//DTD SVG 1.1//EN\"\n \"http://www.w3.org/Graphics/SVG/1.1/DTD/svg11.dtd\">\n<!-- Generated by graphviz version 2.40.1 (20161225.0304)\n -->\n<!-- Title: %3 Pages: 1 -->\n<svg width=\"262pt\" height=\"188pt\"\n viewBox=\"0.00 0.00 261.99 188.00\" xmlns=\"http://www.w3.org/2000/svg\" xmlns:xlink=\"http://www.w3.org/1999/xlink\">\n<g id=\"graph0\" class=\"graph\" transform=\"scale(1 1) rotate(0) translate(4 184)\">\n<title>%3</title>\n<polygon fill=\"#ffffff\" stroke=\"transparent\" points=\"-4,4 -4,-184 257.9908,-184 257.9908,4 -4,4\"/>\n<!-- exercise -->\n<g id=\"node1\" class=\"node\">\n<title>exercise</title>\n<ellipse fill=\"none\" stroke=\"#000000\" cx=\"82.4458\" cy=\"-90\" rx=\"40.0939\" ry=\"18\"/>\n<text text-anchor=\"middle\" x=\"82.4458\" y=\"-86.3\" font-family=\"Times,serif\" font-size=\"14.00\" fill=\"#000000\">exercise</text>\n</g>\n<!-- cholesterol -->\n<g id=\"node2\" class=\"node\">\n<title>cholesterol</title>\n<ellipse fill=\"none\" stroke=\"#000000\" cx=\"82.4458\" cy=\"-18\" rx=\"50.8918\" ry=\"18\"/>\n<text text-anchor=\"middle\" x=\"82.4458\" y=\"-14.3\" font-family=\"Times,serif\" font-size=\"14.00\" fill=\"#000000\">cholesterol</text>\n</g>\n<!-- exercise&#45;&gt;cholesterol -->\n<g id=\"edge6\" class=\"edge\">\n<title>exercise&#45;&gt;cholesterol</title>\n<path fill=\"none\" stroke=\"#000000\" d=\"M82.4458,-71.8314C82.4458,-64.131 82.4458,-54.9743 82.4458,-46.4166\"/>\n<polygon fill=\"#000000\" stroke=\"#000000\" points=\"85.9459,-46.4132 82.4458,-36.4133 78.9459,-46.4133 85.9459,-46.4132\"/>\n</g>\n<!-- age_years -->\n<g id=\"node3\" class=\"node\">\n<title>age_years</title>\n<ellipse fill=\"none\" stroke=\"#000000\" cx=\"47.4458\" cy=\"-162\" rx=\"47.3916\" ry=\"18\"/>\n<text text-anchor=\"middle\" x=\"47.4458\" y=\"-158.3\" font-family=\"Times,serif\" font-size=\"14.00\" fill=\"#000000\">age_years</text>\n</g>\n<!-- age_years&#45;&gt;exercise -->\n<g id=\"edge1\" class=\"edge\">\n<title>age_years&#45;&gt;exercise</title>\n<path fill=\"none\" stroke=\"#000000\" d=\"M56.0975,-144.2022C60.124,-135.9192 64.9985,-125.8915 69.4546,-116.7248\"/>\n<polygon fill=\"#000000\" stroke=\"#000000\" points=\"72.6694,-118.1169 73.8936,-107.593 66.3738,-115.0565 72.6694,-118.1169\"/>\n</g>\n<!-- age_years&#45;&gt;cholesterol -->\n<g id=\"edge2\" class=\"edge\">\n<title>age_years&#45;&gt;cholesterol</title>\n<path fill=\"none\" stroke=\"#000000\" d=\"M39.4374,-144.1742C32.2765,-125.5905 24.2194,-95.8977 33.4458,-72 37.8186,-60.6737 45.7922,-50.2549 54.0549,-41.6533\"/>\n<polygon fill=\"#000000\" stroke=\"#000000\" points=\"56.5887,-44.0711 61.3072,-34.585 51.703,-39.0582 56.5887,-44.0711\"/>\n</g>\n<!-- occupation -->\n<g id=\"node4\" class=\"node\">\n<title>occupation</title>\n<ellipse fill=\"none\" stroke=\"#000000\" cx=\"180.4458\" cy=\"-162\" rx=\"51.9908\" ry=\"18\"/>\n<text text-anchor=\"middle\" x=\"180.4458\" y=\"-158.3\" font-family=\"Times,serif\" font-size=\"14.00\" fill=\"#000000\">occupation</text>\n</g>\n<!-- occupation&#45;&gt;exercise -->\n<g id=\"edge3\" class=\"edge\">\n<title>occupation&#45;&gt;exercise</title>\n<path fill=\"none\" stroke=\"#000000\" d=\"M158.2081,-145.6621C144.5178,-135.6039 126.807,-122.5919 111.9521,-111.6781\"/>\n<polygon fill=\"#000000\" stroke=\"#000000\" points=\"113.7189,-108.6331 103.5878,-105.5329 109.5743,-114.2743 113.7189,-108.6331\"/>\n</g>\n<!-- healthy_diet -->\n<g id=\"node5\" class=\"node\">\n<title>healthy_diet</title>\n<ellipse fill=\"none\" stroke=\"#000000\" cx=\"197.4458\" cy=\"-90\" rx=\"56.59\" ry=\"18\"/>\n<text text-anchor=\"middle\" x=\"197.4458\" y=\"-86.3\" font-family=\"Times,serif\" font-size=\"14.00\" fill=\"#000000\">healthy_diet</text>\n</g>\n<!-- occupation&#45;&gt;healthy_diet -->\n<g id=\"edge4\" class=\"edge\">\n<title>occupation&#45;&gt;healthy_diet</title>\n<path fill=\"none\" stroke=\"#000000\" d=\"M184.7356,-143.8314C186.5538,-136.131 188.7157,-126.9743 190.7363,-118.4166\"/>\n<polygon fill=\"#000000\" stroke=\"#000000\" points=\"194.2066,-118.95 193.0982,-108.4133 187.3939,-117.3414 194.2066,-118.95\"/>\n</g>\n<!-- healthy_diet&#45;&gt;cholesterol -->\n<g id=\"edge5\" class=\"edge\">\n<title>healthy_diet&#45;&gt;cholesterol</title>\n<path fill=\"none\" stroke=\"#000000\" d=\"M171.6375,-73.8418C155.3965,-63.6735 134.2499,-50.4339 116.6238,-39.3984\"/>\n<polygon fill=\"#000000\" stroke=\"#000000\" points=\"118.1052,-36.1965 107.772,-33.8564 114.3905,-42.1296 118.1052,-36.1965\"/>\n</g>\n</g>\n</svg>\n"
          },
          "metadata": {},
          "execution_count": 5
        }
      ]
    },
    {
      "cell_type": "markdown",
      "metadata": {
        "id": "S-JBpfLkpI6M"
      },
      "source": [
        "# Scenario 1: Exercise has a causal effect on Cholesterol level"
      ]
    },
    {
      "cell_type": "markdown",
      "metadata": {
        "id": "E0H12--UA9SE"
      },
      "source": [
        "## Generate the data\n",
        "\n",
        "We randomly generate *occupation* and *age_years* first as they don't depend on other variables. \n",
        "\n",
        "We then generate *exercise* based on *occupation* and *age* assuming that:\n",
        "- stormtroopers exercise more than radar technicians\n",
        "- people under 40 exercise more than people aged 40 or older\n",
        "\n",
        "We generate the *healty_diet* variable based on *occupation*, assuming radar technicians have a better diet.\n",
        "\n",
        "Finally, we generate *cholesterol* levels assuming that:\n",
        "- it's lower with an *healthy diet* and *exercise*\n",
        "- it's lower for people less than 40 years of *age*."
      ]
    },
    {
      "cell_type": "code",
      "metadata": {
        "id": "mWWmHgwHl1v4"
      },
      "source": [
        "np.random.seed(333)\n",
        "\n",
        "N = 1000\n",
        "\n",
        "data_s1 = pd.DataFrame(columns=[\"exercise\", \"cholesterol\", \"occupation\", \"age_years\", \"healthy_diet\"])\n",
        "\n",
        "data_s1[\"occupation\"] = np.random.choice([\"stormtrooper\", \"radar_technician\"], N)\n",
        "data_s1[\"age_years\"] = (np.random.normal(40, 10, N) / 10).astype(int) * 10\n",
        "\n",
        "# Stormtroopers get more exercise\n",
        "data_s1[\"exercise\"] = np.random.randn(N) \\\n",
        "  + 1*(data_s1[\"occupation\"] == \"stormtrooper\") \\\n",
        "  + -1*(data_s1[\"occupation\"] == \"radar_technician\")\n",
        "# People under 40 get more exercise\n",
        "data_s1[\"exercise\"] += 1*(data_s1[\"age_years\"] < 40)\n",
        "data_s1[\"exercise\"] = (data_s1[\"exercise\"] > data_s1[\"exercise\"].mean())\n",
        "\n",
        "\n",
        "# Stormtroopers have a poorer diet\n",
        "data_s1[\"healthy_diet\"] = np.random.rand(N) < (0.1*(data_s1[\"occupation\"] == \"stormtrooper\") \n",
        "                                              + 0.9*(data_s1[\"occupation\"] == \"radar_technician\"))\n",
        "\n",
        "# Base level of cholesterol (random)\n",
        "data_s1[\"cholesterol\"] = 5 + np.random.randn(N)**2 \n",
        "\n",
        "# A healthy diet gives lower cholesterol\n",
        "data_s1[\"cholesterol\"] += -3*data_s1[\"healthy_diet\"] \n",
        "\n",
        "# People under 40 have lower cholesterol\n",
        "data_s1[\"cholesterol\"] += -1*(data_s1[\"age_years\"] < 40)\n",
        "\n",
        "# Exercise has the effect of reducing cholesterol\n",
        "actual_effect_s1 = -1\n",
        "data_s1[\"cholesterol\"] += actual_effect_s1*data_s1[\"exercise\"]"
      ],
      "execution_count": null,
      "outputs": []
    },
    {
      "cell_type": "code",
      "metadata": {
        "colab": {
          "base_uri": "https://localhost:8080/",
          "height": 419
        },
        "id": "beumW_x7mDVe",
        "outputId": "7dc96470-4197-401f-d126-b9352b5b69d5"
      },
      "source": [
        "data_s1"
      ],
      "execution_count": null,
      "outputs": [
        {
          "output_type": "execute_result",
          "data": {
            "text/html": [
              "<div>\n",
              "<style scoped>\n",
              "    .dataframe tbody tr th:only-of-type {\n",
              "        vertical-align: middle;\n",
              "    }\n",
              "\n",
              "    .dataframe tbody tr th {\n",
              "        vertical-align: top;\n",
              "    }\n",
              "\n",
              "    .dataframe thead th {\n",
              "        text-align: right;\n",
              "    }\n",
              "</style>\n",
              "<table border=\"1\" class=\"dataframe\">\n",
              "  <thead>\n",
              "    <tr style=\"text-align: right;\">\n",
              "      <th></th>\n",
              "      <th>exercise</th>\n",
              "      <th>cholesterol</th>\n",
              "      <th>occupation</th>\n",
              "      <th>age_years</th>\n",
              "      <th>healthy_diet</th>\n",
              "    </tr>\n",
              "  </thead>\n",
              "  <tbody>\n",
              "    <tr>\n",
              "      <th>0</th>\n",
              "      <td>True</td>\n",
              "      <td>4.001</td>\n",
              "      <td>stormtrooper</td>\n",
              "      <td>40</td>\n",
              "      <td>False</td>\n",
              "    </tr>\n",
              "    <tr>\n",
              "      <th>1</th>\n",
              "      <td>False</td>\n",
              "      <td>5.100</td>\n",
              "      <td>stormtrooper</td>\n",
              "      <td>50</td>\n",
              "      <td>False</td>\n",
              "    </tr>\n",
              "    <tr>\n",
              "      <th>2</th>\n",
              "      <td>False</td>\n",
              "      <td>4.372</td>\n",
              "      <td>radar_technician</td>\n",
              "      <td>50</td>\n",
              "      <td>True</td>\n",
              "    </tr>\n",
              "    <tr>\n",
              "      <th>3</th>\n",
              "      <td>False</td>\n",
              "      <td>2.036</td>\n",
              "      <td>radar_technician</td>\n",
              "      <td>40</td>\n",
              "      <td>True</td>\n",
              "    </tr>\n",
              "    <tr>\n",
              "      <th>4</th>\n",
              "      <td>False</td>\n",
              "      <td>3.107</td>\n",
              "      <td>radar_technician</td>\n",
              "      <td>40</td>\n",
              "      <td>True</td>\n",
              "    </tr>\n",
              "    <tr>\n",
              "      <th>...</th>\n",
              "      <td>...</td>\n",
              "      <td>...</td>\n",
              "      <td>...</td>\n",
              "      <td>...</td>\n",
              "      <td>...</td>\n",
              "    </tr>\n",
              "    <tr>\n",
              "      <th>995</th>\n",
              "      <td>False</td>\n",
              "      <td>1.039</td>\n",
              "      <td>radar_technician</td>\n",
              "      <td>20</td>\n",
              "      <td>True</td>\n",
              "    </tr>\n",
              "    <tr>\n",
              "      <th>996</th>\n",
              "      <td>True</td>\n",
              "      <td>4.005</td>\n",
              "      <td>stormtrooper</td>\n",
              "      <td>50</td>\n",
              "      <td>False</td>\n",
              "    </tr>\n",
              "    <tr>\n",
              "      <th>997</th>\n",
              "      <td>True</td>\n",
              "      <td>4.012</td>\n",
              "      <td>stormtrooper</td>\n",
              "      <td>40</td>\n",
              "      <td>False</td>\n",
              "    </tr>\n",
              "    <tr>\n",
              "      <th>998</th>\n",
              "      <td>False</td>\n",
              "      <td>2.009</td>\n",
              "      <td>radar_technician</td>\n",
              "      <td>50</td>\n",
              "      <td>True</td>\n",
              "    </tr>\n",
              "    <tr>\n",
              "      <th>999</th>\n",
              "      <td>True</td>\n",
              "      <td>4.469</td>\n",
              "      <td>stormtrooper</td>\n",
              "      <td>40</td>\n",
              "      <td>False</td>\n",
              "    </tr>\n",
              "  </tbody>\n",
              "</table>\n",
              "<p>1000 rows × 5 columns</p>\n",
              "</div>"
            ],
            "text/plain": [
              "     exercise  cholesterol        occupation  age_years  healthy_diet\n",
              "0        True        4.001      stormtrooper         40         False\n",
              "1       False        5.100      stormtrooper         50         False\n",
              "2       False        4.372  radar_technician         50          True\n",
              "3       False        2.036  radar_technician         40          True\n",
              "4       False        3.107  radar_technician         40          True\n",
              "..        ...          ...               ...        ...           ...\n",
              "995     False        1.039  radar_technician         20          True\n",
              "996      True        4.005      stormtrooper         50         False\n",
              "997      True        4.012      stormtrooper         40         False\n",
              "998     False        2.009  radar_technician         50          True\n",
              "999      True        4.469      stormtrooper         40         False\n",
              "\n",
              "[1000 rows x 5 columns]"
            ]
          },
          "metadata": {},
          "execution_count": 7
        }
      ]
    },
    {
      "cell_type": "markdown",
      "metadata": {
        "id": "Jnt0hR1uDI3g"
      },
      "source": [
        "## Let's look at correlations first\n",
        "\n",
        "Between *occupation*, *exercise* and *cholesterol*:"
      ]
    },
    {
      "cell_type": "code",
      "metadata": {
        "colab": {
          "base_uri": "https://localhost:8080/",
          "height": 142
        },
        "id": "JqHdwK3vnWhK",
        "outputId": "50e635a3-fdd2-4d8d-83b8-f3a77be99d09"
      },
      "source": [
        "data_s1.groupby([\"occupation\", \"exercise\"])[\"cholesterol\"].mean().unstack(1)"
      ],
      "execution_count": null,
      "outputs": [
        {
          "output_type": "execute_result",
          "data": {
            "text/html": [
              "<div>\n",
              "<style scoped>\n",
              "    .dataframe tbody tr th:only-of-type {\n",
              "        vertical-align: middle;\n",
              "    }\n",
              "\n",
              "    .dataframe tbody tr th {\n",
              "        vertical-align: top;\n",
              "    }\n",
              "\n",
              "    .dataframe thead th {\n",
              "        text-align: right;\n",
              "    }\n",
              "</style>\n",
              "<table border=\"1\" class=\"dataframe\">\n",
              "  <thead>\n",
              "    <tr style=\"text-align: right;\">\n",
              "      <th>exercise</th>\n",
              "      <th>False</th>\n",
              "      <th>True</th>\n",
              "    </tr>\n",
              "    <tr>\n",
              "      <th>occupation</th>\n",
              "      <th></th>\n",
              "      <th></th>\n",
              "    </tr>\n",
              "  </thead>\n",
              "  <tbody>\n",
              "    <tr>\n",
              "      <th>radar_technician</th>\n",
              "      <td>2.812</td>\n",
              "      <td>1.525</td>\n",
              "    </tr>\n",
              "    <tr>\n",
              "      <th>stormtrooper</th>\n",
              "      <td>5.468</td>\n",
              "      <td>4.163</td>\n",
              "    </tr>\n",
              "  </tbody>\n",
              "</table>\n",
              "</div>"
            ],
            "text/plain": [
              "exercise          False  True \n",
              "occupation                    \n",
              "radar_technician  2.812  1.525\n",
              "stormtrooper      5.468  4.163"
            ]
          },
          "metadata": {},
          "execution_count": 8
        }
      ]
    },
    {
      "cell_type": "markdown",
      "metadata": {
        "id": "lNY2ZdaNDe51"
      },
      "source": [
        "As expected, *cholesterol* is the highest for stormtroopers who don't exercise, and the lowest for radar technicians who exercise.\n",
        "\n",
        "Let's add *age* as well:"
      ]
    },
    {
      "cell_type": "code",
      "metadata": {
        "colab": {
          "base_uri": "https://localhost:8080/",
          "height": 328
        },
        "id": "Qu3MsWiMmDRb",
        "outputId": "205844bd-1b6e-48f5-9acb-ebcb40902d70"
      },
      "source": [
        "data_s1.groupby([\"age_years\", \"occupation\", \"exercise\"])[\"cholesterol\"].mean().unstack([1,2])\n"
      ],
      "execution_count": null,
      "outputs": [
        {
          "output_type": "execute_result",
          "data": {
            "text/html": [
              "<div>\n",
              "<style scoped>\n",
              "    .dataframe tbody tr th:only-of-type {\n",
              "        vertical-align: middle;\n",
              "    }\n",
              "\n",
              "    .dataframe tbody tr th {\n",
              "        vertical-align: top;\n",
              "    }\n",
              "\n",
              "    .dataframe thead tr th {\n",
              "        text-align: left;\n",
              "    }\n",
              "\n",
              "    .dataframe thead tr:last-of-type th {\n",
              "        text-align: right;\n",
              "    }\n",
              "</style>\n",
              "<table border=\"1\" class=\"dataframe\">\n",
              "  <thead>\n",
              "    <tr>\n",
              "      <th>occupation</th>\n",
              "      <th colspan=\"2\" halign=\"left\">radar_technician</th>\n",
              "      <th colspan=\"2\" halign=\"left\">stormtrooper</th>\n",
              "    </tr>\n",
              "    <tr>\n",
              "      <th>exercise</th>\n",
              "      <th>False</th>\n",
              "      <th>True</th>\n",
              "      <th>False</th>\n",
              "      <th>True</th>\n",
              "    </tr>\n",
              "    <tr>\n",
              "      <th>age_years</th>\n",
              "      <th></th>\n",
              "      <th></th>\n",
              "      <th></th>\n",
              "      <th></th>\n",
              "    </tr>\n",
              "  </thead>\n",
              "  <tbody>\n",
              "    <tr>\n",
              "      <th>10</th>\n",
              "      <td>2.175</td>\n",
              "      <td>2.909</td>\n",
              "      <td>1.089</td>\n",
              "      <td>4.646</td>\n",
              "    </tr>\n",
              "    <tr>\n",
              "      <th>20</th>\n",
              "      <td>2.155</td>\n",
              "      <td>1.053</td>\n",
              "      <td>4.622</td>\n",
              "      <td>4.268</td>\n",
              "    </tr>\n",
              "    <tr>\n",
              "      <th>30</th>\n",
              "      <td>2.250</td>\n",
              "      <td>1.471</td>\n",
              "      <td>5.181</td>\n",
              "      <td>3.588</td>\n",
              "    </tr>\n",
              "    <tr>\n",
              "      <th>40</th>\n",
              "      <td>3.186</td>\n",
              "      <td>1.958</td>\n",
              "      <td>5.690</td>\n",
              "      <td>4.714</td>\n",
              "    </tr>\n",
              "    <tr>\n",
              "      <th>50</th>\n",
              "      <td>3.320</td>\n",
              "      <td>2.098</td>\n",
              "      <td>5.477</td>\n",
              "      <td>4.434</td>\n",
              "    </tr>\n",
              "    <tr>\n",
              "      <th>60</th>\n",
              "      <td>2.976</td>\n",
              "      <td>2.498</td>\n",
              "      <td>6.426</td>\n",
              "      <td>4.902</td>\n",
              "    </tr>\n",
              "    <tr>\n",
              "      <th>70</th>\n",
              "      <td>NaN</td>\n",
              "      <td>NaN</td>\n",
              "      <td>5.003</td>\n",
              "      <td>4.504</td>\n",
              "    </tr>\n",
              "  </tbody>\n",
              "</table>\n",
              "</div>"
            ],
            "text/plain": [
              "occupation radar_technician        stormtrooper       \n",
              "exercise              False  True         False  True \n",
              "age_years                                             \n",
              "10                    2.175  2.909        1.089  4.646\n",
              "20                    2.155  1.053        4.622  4.268\n",
              "30                    2.250  1.471        5.181  3.588\n",
              "40                    3.186  1.958        5.690  4.714\n",
              "50                    3.320  2.098        5.477  4.434\n",
              "60                    2.976  2.498        6.426  4.902\n",
              "70                      NaN    NaN        5.003  4.504"
            ]
          },
          "metadata": {},
          "execution_count": 9
        }
      ]
    },
    {
      "cell_type": "markdown",
      "metadata": {
        "id": "QENFW0iaDzd8"
      },
      "source": [
        "For most age levels, cholesterol is lower when they exercise, and in general it's also lower for radar technicians.\n",
        "\n",
        "Now we calculate the overall correlation coefficients:"
      ]
    },
    {
      "cell_type": "code",
      "metadata": {
        "colab": {
          "base_uri": "https://localhost:8080/",
          "height": 173
        },
        "id": "X9uF5dGrpgqg",
        "outputId": "6e72f516-d798-435f-e4da-0e8427fc135c"
      },
      "source": [
        "data_s1.corr()"
      ],
      "execution_count": null,
      "outputs": [
        {
          "output_type": "execute_result",
          "data": {
            "text/html": [
              "<div>\n",
              "<style scoped>\n",
              "    .dataframe tbody tr th:only-of-type {\n",
              "        vertical-align: middle;\n",
              "    }\n",
              "\n",
              "    .dataframe tbody tr th {\n",
              "        vertical-align: top;\n",
              "    }\n",
              "\n",
              "    .dataframe thead th {\n",
              "        text-align: right;\n",
              "    }\n",
              "</style>\n",
              "<table border=\"1\" class=\"dataframe\">\n",
              "  <thead>\n",
              "    <tr style=\"text-align: right;\">\n",
              "      <th></th>\n",
              "      <th>exercise</th>\n",
              "      <th>cholesterol</th>\n",
              "      <th>age_years</th>\n",
              "      <th>healthy_diet</th>\n",
              "    </tr>\n",
              "  </thead>\n",
              "  <tbody>\n",
              "    <tr>\n",
              "      <th>exercise</th>\n",
              "      <td>1.000</td>\n",
              "      <td>0.110</td>\n",
              "      <td>-0.184</td>\n",
              "      <td>-0.514</td>\n",
              "    </tr>\n",
              "    <tr>\n",
              "      <th>cholesterol</th>\n",
              "      <td>0.110</td>\n",
              "      <td>1.000</td>\n",
              "      <td>0.196</td>\n",
              "      <td>-0.634</td>\n",
              "    </tr>\n",
              "    <tr>\n",
              "      <th>age_years</th>\n",
              "      <td>-0.184</td>\n",
              "      <td>0.196</td>\n",
              "      <td>1.000</td>\n",
              "      <td>0.052</td>\n",
              "    </tr>\n",
              "    <tr>\n",
              "      <th>healthy_diet</th>\n",
              "      <td>-0.514</td>\n",
              "      <td>-0.634</td>\n",
              "      <td>0.052</td>\n",
              "      <td>1.000</td>\n",
              "    </tr>\n",
              "  </tbody>\n",
              "</table>\n",
              "</div>"
            ],
            "text/plain": [
              "              exercise  cholesterol  age_years  healthy_diet\n",
              "exercise         1.000        0.110     -0.184        -0.514\n",
              "cholesterol      0.110        1.000      0.196        -0.634\n",
              "age_years       -0.184        0.196      1.000         0.052\n",
              "healthy_diet    -0.514       -0.634      0.052         1.000"
            ]
          },
          "metadata": {},
          "execution_count": 10
        }
      ]
    },
    {
      "cell_type": "markdown",
      "metadata": {
        "id": "Kyy9hu8yEWPo"
      },
      "source": [
        "Most of these are expected, considering on how we generated the data. \n",
        "\n",
        "However, the correlation between cholesterol and exercise stands out. It looks like there is a POSITIVE correlation, meaning the more one exercise the higher their cholesterol levels!"
      ]
    },
    {
      "cell_type": "code",
      "metadata": {
        "colab": {
          "base_uri": "https://localhost:8080/",
          "height": 37
        },
        "id": "r7gV4ryBEIUH",
        "outputId": "fd3ed9c9-482b-40aa-cedc-63d6c751be94"
      },
      "source": [
        "data_s1.corr().loc[\"cholesterol\", \"exercise\"].round(3)"
      ],
      "execution_count": null,
      "outputs": [
        {
          "output_type": "execute_result",
          "data": {
            "image/png": "[encoded data removed]",
            "text/latex": "$\\displaystyle 0.11$",
            "text/plain": [
              "0.11"
            ]
          },
          "metadata": {},
          "execution_count": 11
        }
      ]
    },
    {
      "cell_type": "code",
      "metadata": {
        "colab": {
          "base_uri": "https://localhost:8080/"
        },
        "id": "DW0nR9xaNc9b",
        "outputId": "e0f59311-e140-42a3-f11b-9d38382ecf1b"
      },
      "source": [
        "data_s1.groupby(\"exercise\")[\"cholesterol\"].mean()"
      ],
      "execution_count": null,
      "outputs": [
        {
          "output_type": "execute_result",
          "data": {
            "text/plain": [
              "exercise\n",
              "False    3.256\n",
              "True     3.692\n",
              "Name: cholesterol, dtype: float64"
            ]
          },
          "metadata": {},
          "execution_count": 12
        }
      ]
    },
    {
      "cell_type": "code",
      "metadata": {
        "colab": {
          "base_uri": "https://localhost:8080/",
          "height": 37
        },
        "id": "4m13JB5jNjsc",
        "outputId": "de565e2f-6b13-4d9f-beba-7dd9503d0a61"
      },
      "source": [
        "observed_effect_s1 = data_s1.groupby(\"exercise\")[\"cholesterol\"].mean().diff().loc[True]\n",
        "observed_effect_s1.round(3)"
      ],
      "execution_count": null,
      "outputs": [
        {
          "output_type": "execute_result",
          "data": {
            "image/png": "[encoded data removed]",
            "text/latex": "$\\displaystyle 0.435$",
            "text/plain": [
              "0.435"
            ]
          },
          "metadata": {},
          "execution_count": 13
        }
      ]
    },
    {
      "cell_type": "markdown",
      "metadata": {
        "id": "CX_GUonAEPwn"
      },
      "source": [
        "This appears to be an example of the [Simpson's Paradox](https://en.wikipedia.org/wiki/Simpson%27s_paradox)\n",
        "\n",
        "> *Simpson's paradox, which also goes by several other names, is a phenomenon in probability and statistics in which a trend appears in several groups of data but disappears or reverses when the groups are combined.*\n",
        "\n",
        "In our example, cholesterol is lower for people who exercise if we break down the data by occupation and age, but it appears to be positively correlated with exercise if we look at the data in aggregate."
      ]
    },
    {
      "cell_type": "code",
      "metadata": {
        "colab": {
          "base_uri": "https://localhost:8080/"
        },
        "id": "5uWzdrz4pt5p",
        "outputId": "010390be-e69d-4f41-ae12-425f527f02d6"
      },
      "source": [
        "ttest_ind(data_s1.loc[data_s1[\"exercise\"], \"cholesterol\"].values, data_s1.loc[~data_s1[\"exercise\"], \"cholesterol\"].values)"
      ],
      "execution_count": null,
      "outputs": [
        {
          "output_type": "execute_result",
          "data": {
            "text/plain": [
              "Ttest_indResult(statistic=3.494949741636341, pvalue=0.0004949873998274109)"
            ]
          },
          "metadata": {},
          "execution_count": 14
        }
      ]
    },
    {
      "cell_type": "markdown",
      "metadata": {
        "id": "Arslj4TUFCmE"
      },
      "source": [
        "A t-test confirms that the correlation is also statistically significant with p-value < 0.001."
      ]
    },
    {
      "cell_type": "markdown",
      "metadata": {
        "id": "icdQOtdTF2Qm"
      },
      "source": [
        "## Causal Inference\n",
        "\n",
        "We now turn to Causal Inference to hopefully find the true causal effect between exercise and cholesterol. \n",
        "\n",
        "We are going to use [dowhy]() for the task, and use [Propensity Score Matching](https://en.wikipedia.org/wiki/Propensity_score_matching) (with stratification) to estimate the actual causal effect. \n",
        "\n",
        "***\n",
        "\n",
        "We first instantiate the model and pass our data, the treatment and outcome names, and the graph in dot format.\n"
      ]
    },
    {
      "cell_type": "code",
      "metadata": {
        "id": "gge8E997mDNX"
      },
      "source": [
        "model = CausalModel(\n",
        "        data=data_s1,\n",
        "        treatment=\"exercise\",\n",
        "        outcome=\"cholesterol\",\n",
        "        graph=graph_s.replace('\\n', '').strip()\n",
        "    )"
      ],
      "execution_count": null,
      "outputs": []
    },
    {
      "cell_type": "markdown",
      "metadata": {
        "id": "w7t1kEKNHrSK"
      },
      "source": [
        "Next, we run the actual estimation method.\n",
        "\n",
        "`.identify_effect` parses the graph and defines the estimands.\n",
        "\n",
        "`.estimate_effect` with \"backdoor.propensity_score_stratification\" as `method_name` runs the propensity score model and returns the estimated effect.\n",
        "\n",
        "Here we can also define \n",
        "- specific method parameters in `method_params`; for PS stratification we can define the number of strata and how many items of one class required in each stratum as a minumum (otherwise the stratum is dropped);\n",
        "- whether we want a confidence interval around the estimate, and the method to compute it; in this case we decided to calculate it with bootstrapping;\n",
        "- whether we want to test for statistical significance (not recommended if you are calculating the confidence interval already as it will just slow down the estimation -- we can judge significance at the 95% level from the confidence interval already). "
      ]
    },
    {
      "cell_type": "code",
      "metadata": {
        "colab": {
          "base_uri": "https://localhost:8080/"
        },
        "id": "MQ9LLhPeHsDb",
        "outputId": "21d689dc-d4ff-4c18-c651-7a1338cfb927"
      },
      "source": [
        "# Identify causal effect and return target estimands\n",
        "identified_estimand = model.identify_effect(proceed_when_unidentifiable=True)\n",
        "\n",
        "# Estimate the target estimand using a statistical method. Propensity score stratification.\n",
        "estimate = model.estimate_effect(identified_estimand,\n",
        "                                  method_name=\"backdoor.propensity_score_stratification\",\n",
        "                                  target_units=\"ate\",\n",
        "                                  test_significance=False,\n",
        "                                  confidence_intervals='bootstrap',\n",
        "                                  method_params={\"num_strata\":50, \"clipping_threshold\":5, \"num_simulations\":100})\n",
        "\n",
        "estimated_effect_s1 = estimate.value\n",
        "estimated_effect_c1_s1 = estimate.get_confidence_intervals()\n",
        "\n",
        "print(f\"Estimated causal effect: {estimated_effect_s1:0.3g}; \"\n",
        "  f\"95% conf. int.: ({estimated_effect_c1_s1[0]:0.3g}, {estimated_effect_c1_s1[1]:0.3g})\")\n",
        "print(f\"Actual causal effect: {actual_effect_s1}\")"
      ],
      "execution_count": null,
      "outputs": [
        {
          "output_type": "stream",
          "name": "stdout",
          "text": [
            "Estimated causal effect: -0.901; 95% conf. int.: (-1.15, -0.746)\n",
            "Actual causal effect: -1\n"
          ]
        }
      ]
    },
    {
      "cell_type": "markdown",
      "metadata": {
        "id": "SaWWSsHeNXov"
      },
      "source": [
        "The estimated causal effect is correclty negative and close to the actual effect we defined when simulating the data (it's contained in the estimate confidence interval). \n",
        "\n",
        "What we would have thought being a positive relationship between exercise and cholesterol (more exercise - higher cholesterol), is in reality a negative one; the positive correlation we had observed was entirely due to the effect of the confounding factors. "
      ]
    },
    {
      "cell_type": "markdown",
      "metadata": {
        "id": "rU6mPgiMbkgV"
      },
      "source": [
        "## Refutation\n",
        "\n",
        "We will now see if we can refute the estimates (even though it's not necessary in this case as we have generated the data ourselves based on a pre-defined causal model).\n",
        "\n",
        "Dowhy provides a collection of refutation methods to use. We will use three of them:\n",
        "- adding a random confounder\n",
        "- replacing treatment with a placebo\n",
        "- re-running the estimate on data subsets"
      ]
    },
    {
      "cell_type": "code",
      "metadata": {
        "colab": {
          "base_uri": "https://localhost:8080/"
        },
        "id": "cedo4-BPbkgW",
        "outputId": "2ff5a6d2-436f-41bb-ba10-ad6b779f1027"
      },
      "source": [
        "np.random.seed(42)\n",
        "\n",
        "refute_results_0 = model.refute_estimate(identified_estimand, \n",
        "                                          estimate, \n",
        "                                          method_name=\"random_common_cause\", \n",
        "                                          confounders_effect_on_treatment=\"binary_flip\", \n",
        "                                          confounders_effect_on_outcome=\"binary_flip\")\n",
        "print(refute_results_0)"
      ],
      "execution_count": null,
      "outputs": [
        {
          "output_type": "stream",
          "name": "stdout",
          "text": [
            "Refute: Add a Random Common Cause\n",
            "Estimated effect:-0.9011023663169796\n",
            "New effect:-0.6404719954180753\n",
            "\n"
          ]
        }
      ]
    },
    {
      "cell_type": "code",
      "metadata": {
        "colab": {
          "base_uri": "https://localhost:8080/"
        },
        "id": "M_FpmaVUbkgW",
        "outputId": "60ff58f8-9766-4939-9357-60fa58bda4fc"
      },
      "source": [
        "np.random.seed(42)\n",
        "\n",
        "refute_results_1 = model.refute_estimate(identified_estimand, \n",
        "                                         estimate, \n",
        "                                         method_name=\"placebo_treatment_refuter\", \n",
        "                                         placebo_type=\"Random Data\", \n",
        "                                         num_simulations=10)\n",
        "\n",
        "print(refute_results_1)"
      ],
      "execution_count": null,
      "outputs": [
        {
          "output_type": "stream",
          "name": "stdout",
          "text": [
            "Refute: Use a Placebo Treatment\n",
            "Estimated effect:-0.9011023663169796\n",
            "New effect:0.0012099992118265624\n",
            "p value:0.4955256903508029\n",
            "\n"
          ]
        }
      ]
    },
    {
      "cell_type": "code",
      "metadata": {
        "colab": {
          "base_uri": "https://localhost:8080/"
        },
        "id": "BtaMkRQdbkgW",
        "outputId": "c73c022f-3cb8-4ade-c8ee-d525bfeaf0e1"
      },
      "source": [
        "np.random.seed(42)\n",
        "\n",
        "refute_results_2 = model.refute_estimate(identified_estimand, \n",
        "                                         estimate, \n",
        "                                         method_name=\"data_subset_refuter\", \n",
        "                                         subset_fraction=0.5, \n",
        "                                         num_simulations=10)\n",
        "\n",
        "print(refute_results_2)"
      ],
      "execution_count": null,
      "outputs": [
        {
          "output_type": "stream",
          "name": "stdout",
          "text": [
            "Refute: Use a subset of data\n",
            "Estimated effect:-0.9011023663169796\n",
            "New effect:-0.8670165471484579\n",
            "p value:0.4176858905993788\n",
            "\n"
          ]
        }
      ]
    },
    {
      "cell_type": "markdown",
      "metadata": {
        "id": "omtWXc1ybkgX"
      },
      "source": [
        "The three refutation methods used return the expected results:\n",
        "- adding a randomly drawn confounder does not significantly change the estimate\n",
        "- replacing the treatment with a randomly shuffled one makes the effect go to zero\n",
        "- re-running the estimates on several subsamples of the data returns a similar estimate as the original one."
      ]
    },
    {
      "cell_type": "markdown",
      "metadata": {
        "id": "daVe1kmRtIr8"
      },
      "source": [
        "# Scenario 2: Exercise does not have an impact on Cholesterol level\n",
        "\n",
        "Let's now see what happens if we generate the data such that there is no direct causal effect between exercise and cholesterol."
      ]
    },
    {
      "cell_type": "code",
      "metadata": {
        "id": "KXv4VOTqtIKx"
      },
      "source": [
        "np.random.seed(333)\n",
        "\n",
        "N = 1000\n",
        "\n",
        "data_s2 = pd.DataFrame(columns=[\"exercise\", \"cholesterol\", \"occupation\", \"age_years\", \"healthy_diet\"])\n",
        "\n",
        "data_s2[\"occupation\"] = np.random.choice([\"stormtrooper\", \"radar_technician\"], N)\n",
        "data_s2[\"age_years\"] = (np.random.normal(40, 10, N) / 10).astype(int) * 10\n",
        "\n",
        "# Stormtroopers get more exercise\n",
        "data_s2[\"exercise\"] = np.random.randn(N) \\\n",
        "  + 1*(data_s2[\"occupation\"] == \"stormtrooper\") \\\n",
        "  + -1*(data_s2[\"occupation\"] == \"radar_technician\")\n",
        "# People under 40 get more exercise\n",
        "data_s2[\"exercise\"] += 1*(data_s2[\"age_years\"] < 40)\n",
        "data_s2[\"exercise\"] = (data_s2[\"exercise\"] > data_s2[\"exercise\"].mean())\n",
        "\n",
        "# Stormtroopers have a poorer diet\n",
        "data_s2[\"healthy_diet\"] = np.random.rand(N) < (0.1*(data_s2[\"occupation\"] == \"stormtrooper\") \n",
        "                                              + 0.9*(data_s2[\"occupation\"] == \"radar_technician\"))\n",
        "\n",
        "# Base level of cholesterol (random)\n",
        "data_s2[\"cholesterol\"] = 5 + np.random.randn(N)**2 \n",
        "\n",
        "# A healthy diet gives lower cholesterol\n",
        "data_s2[\"cholesterol\"] += -3*data_s2[\"healthy_diet\"] \n",
        "\n",
        "# People under 40 have lower cholesterol\n",
        "data_s2[\"cholesterol\"] += -1*(data_s2[\"age_years\"] < 40)\n",
        "\n",
        "# Exercise has the effect of reducing cholesterol\n",
        "actual_effect_s2 = 0.0\n",
        "data_s2[\"cholesterol\"] += actual_effect_s2*data_s2[\"exercise\"]"
      ],
      "execution_count": null,
      "outputs": []
    },
    {
      "cell_type": "markdown",
      "metadata": {
        "id": "LfrQVz2YPuXP"
      },
      "source": [
        "## Let's look at correlations first\n",
        "\n",
        "Between *occupation*, *exercise* and *cholesterol*:"
      ]
    },
    {
      "cell_type": "code",
      "metadata": {
        "colab": {
          "base_uri": "https://localhost:8080/",
          "height": 142
        },
        "id": "rrrgLFzFPuXP",
        "outputId": "2a84b8bb-0efe-4e0e-ffa5-55ec92d90447"
      },
      "source": [
        "data_s2.groupby([\"occupation\", \"exercise\"])[\"cholesterol\"].mean().unstack(1)"
      ],
      "execution_count": null,
      "outputs": [
        {
          "output_type": "execute_result",
          "data": {
            "text/html": [
              "<div>\n",
              "<style scoped>\n",
              "    .dataframe tbody tr th:only-of-type {\n",
              "        vertical-align: middle;\n",
              "    }\n",
              "\n",
              "    .dataframe tbody tr th {\n",
              "        vertical-align: top;\n",
              "    }\n",
              "\n",
              "    .dataframe thead th {\n",
              "        text-align: right;\n",
              "    }\n",
              "</style>\n",
              "<table border=\"1\" class=\"dataframe\">\n",
              "  <thead>\n",
              "    <tr style=\"text-align: right;\">\n",
              "      <th>exercise</th>\n",
              "      <th>False</th>\n",
              "      <th>True</th>\n",
              "    </tr>\n",
              "    <tr>\n",
              "      <th>occupation</th>\n",
              "      <th></th>\n",
              "      <th></th>\n",
              "    </tr>\n",
              "  </thead>\n",
              "  <tbody>\n",
              "    <tr>\n",
              "      <th>radar_technician</th>\n",
              "      <td>2.812</td>\n",
              "      <td>2.525</td>\n",
              "    </tr>\n",
              "    <tr>\n",
              "      <th>stormtrooper</th>\n",
              "      <td>5.468</td>\n",
              "      <td>5.163</td>\n",
              "    </tr>\n",
              "  </tbody>\n",
              "</table>\n",
              "</div>"
            ],
            "text/plain": [
              "exercise          False  True \n",
              "occupation                    \n",
              "radar_technician  2.812  2.525\n",
              "stormtrooper      5.468  5.163"
            ]
          },
          "metadata": {},
          "execution_count": 18
        }
      ]
    },
    {
      "cell_type": "markdown",
      "metadata": {
        "id": "p6v1qJTvPuXP"
      },
      "source": [
        "Like before, *cholesterol* is the highest for stormtroopers who don't exercise, and the lowest for radar technicians who exercise.\n",
        "\n",
        "Let's add *age* as well:"
      ]
    },
    {
      "cell_type": "code",
      "metadata": {
        "colab": {
          "base_uri": "https://localhost:8080/",
          "height": 328
        },
        "id": "oYwZ13qqPuXQ",
        "outputId": "80c7907a-f89a-4b1a-c69d-0ad031575e11"
      },
      "source": [
        "data_s2.groupby([\"age_years\", \"occupation\", \"exercise\"])[\"cholesterol\"].mean().unstack([1,2])\n"
      ],
      "execution_count": null,
      "outputs": [
        {
          "output_type": "execute_result",
          "data": {
            "text/html": [
              "<div>\n",
              "<style scoped>\n",
              "    .dataframe tbody tr th:only-of-type {\n",
              "        vertical-align: middle;\n",
              "    }\n",
              "\n",
              "    .dataframe tbody tr th {\n",
              "        vertical-align: top;\n",
              "    }\n",
              "\n",
              "    .dataframe thead tr th {\n",
              "        text-align: left;\n",
              "    }\n",
              "\n",
              "    .dataframe thead tr:last-of-type th {\n",
              "        text-align: right;\n",
              "    }\n",
              "</style>\n",
              "<table border=\"1\" class=\"dataframe\">\n",
              "  <thead>\n",
              "    <tr>\n",
              "      <th>occupation</th>\n",
              "      <th colspan=\"2\" halign=\"left\">radar_technician</th>\n",
              "      <th colspan=\"2\" halign=\"left\">stormtrooper</th>\n",
              "    </tr>\n",
              "    <tr>\n",
              "      <th>exercise</th>\n",
              "      <th>False</th>\n",
              "      <th>True</th>\n",
              "      <th>False</th>\n",
              "      <th>True</th>\n",
              "    </tr>\n",
              "    <tr>\n",
              "      <th>age_years</th>\n",
              "      <th></th>\n",
              "      <th></th>\n",
              "      <th></th>\n",
              "      <th></th>\n",
              "    </tr>\n",
              "  </thead>\n",
              "  <tbody>\n",
              "    <tr>\n",
              "      <th>10</th>\n",
              "      <td>2.175</td>\n",
              "      <td>3.909</td>\n",
              "      <td>1.089</td>\n",
              "      <td>5.646</td>\n",
              "    </tr>\n",
              "    <tr>\n",
              "      <th>20</th>\n",
              "      <td>2.155</td>\n",
              "      <td>2.053</td>\n",
              "      <td>4.622</td>\n",
              "      <td>5.268</td>\n",
              "    </tr>\n",
              "    <tr>\n",
              "      <th>30</th>\n",
              "      <td>2.250</td>\n",
              "      <td>2.471</td>\n",
              "      <td>5.181</td>\n",
              "      <td>4.588</td>\n",
              "    </tr>\n",
              "    <tr>\n",
              "      <th>40</th>\n",
              "      <td>3.186</td>\n",
              "      <td>2.958</td>\n",
              "      <td>5.690</td>\n",
              "      <td>5.714</td>\n",
              "    </tr>\n",
              "    <tr>\n",
              "      <th>50</th>\n",
              "      <td>3.320</td>\n",
              "      <td>3.098</td>\n",
              "      <td>5.477</td>\n",
              "      <td>5.434</td>\n",
              "    </tr>\n",
              "    <tr>\n",
              "      <th>60</th>\n",
              "      <td>2.976</td>\n",
              "      <td>3.498</td>\n",
              "      <td>6.426</td>\n",
              "      <td>5.902</td>\n",
              "    </tr>\n",
              "    <tr>\n",
              "      <th>70</th>\n",
              "      <td>NaN</td>\n",
              "      <td>NaN</td>\n",
              "      <td>5.003</td>\n",
              "      <td>5.504</td>\n",
              "    </tr>\n",
              "  </tbody>\n",
              "</table>\n",
              "</div>"
            ],
            "text/plain": [
              "occupation radar_technician        stormtrooper       \n",
              "exercise              False  True         False  True \n",
              "age_years                                             \n",
              "10                    2.175  3.909        1.089  5.646\n",
              "20                    2.155  2.053        4.622  5.268\n",
              "30                    2.250  2.471        5.181  4.588\n",
              "40                    3.186  2.958        5.690  5.714\n",
              "50                    3.320  3.098        5.477  5.434\n",
              "60                    2.976  3.498        6.426  5.902\n",
              "70                      NaN    NaN        5.003  5.504"
            ]
          },
          "metadata": {},
          "execution_count": 19
        }
      ]
    },
    {
      "cell_type": "markdown",
      "metadata": {
        "id": "mccpiBn5PuXQ"
      },
      "source": [
        "Cholesterol is still higher with older age, but now we don't see a correlation with exercise in the individual age groups.\n",
        "\n",
        "Now we calculate the overall correlation coefficients:"
      ]
    },
    {
      "cell_type": "code",
      "metadata": {
        "colab": {
          "base_uri": "https://localhost:8080/",
          "height": 173
        },
        "id": "6SYvNaUqPuXQ",
        "outputId": "260d2055-d7b7-4e43-c2af-57fa36acd1f6"
      },
      "source": [
        "data_s2.corr()"
      ],
      "execution_count": null,
      "outputs": [
        {
          "output_type": "execute_result",
          "data": {
            "text/html": [
              "<div>\n",
              "<style scoped>\n",
              "    .dataframe tbody tr th:only-of-type {\n",
              "        vertical-align: middle;\n",
              "    }\n",
              "\n",
              "    .dataframe tbody tr th {\n",
              "        vertical-align: top;\n",
              "    }\n",
              "\n",
              "    .dataframe thead th {\n",
              "        text-align: right;\n",
              "    }\n",
              "</style>\n",
              "<table border=\"1\" class=\"dataframe\">\n",
              "  <thead>\n",
              "    <tr style=\"text-align: right;\">\n",
              "      <th></th>\n",
              "      <th>exercise</th>\n",
              "      <th>cholesterol</th>\n",
              "      <th>age_years</th>\n",
              "      <th>healthy_diet</th>\n",
              "    </tr>\n",
              "  </thead>\n",
              "  <tbody>\n",
              "    <tr>\n",
              "      <th>exercise</th>\n",
              "      <td>1.000</td>\n",
              "      <td>0.343</td>\n",
              "      <td>-0.184</td>\n",
              "      <td>-0.514</td>\n",
              "    </tr>\n",
              "    <tr>\n",
              "      <th>cholesterol</th>\n",
              "      <td>0.343</td>\n",
              "      <td>1.000</td>\n",
              "      <td>0.141</td>\n",
              "      <td>-0.722</td>\n",
              "    </tr>\n",
              "    <tr>\n",
              "      <th>age_years</th>\n",
              "      <td>-0.184</td>\n",
              "      <td>0.141</td>\n",
              "      <td>1.000</td>\n",
              "      <td>0.052</td>\n",
              "    </tr>\n",
              "    <tr>\n",
              "      <th>healthy_diet</th>\n",
              "      <td>-0.514</td>\n",
              "      <td>-0.722</td>\n",
              "      <td>0.052</td>\n",
              "      <td>1.000</td>\n",
              "    </tr>\n",
              "  </tbody>\n",
              "</table>\n",
              "</div>"
            ],
            "text/plain": [
              "              exercise  cholesterol  age_years  healthy_diet\n",
              "exercise         1.000        0.343     -0.184        -0.514\n",
              "cholesterol      0.343        1.000      0.141        -0.722\n",
              "age_years       -0.184        0.141      1.000         0.052\n",
              "healthy_diet    -0.514       -0.722      0.052         1.000"
            ]
          },
          "metadata": {},
          "execution_count": 20
        }
      ]
    },
    {
      "cell_type": "markdown",
      "metadata": {
        "id": "Tj9R-oykPuXQ"
      },
      "source": [
        "However, now cholesterol and exercise appear even more positively correlated!"
      ]
    },
    {
      "cell_type": "code",
      "metadata": {
        "colab": {
          "base_uri": "https://localhost:8080/",
          "height": 37
        },
        "id": "wmNuiGFAPuXQ",
        "outputId": "74d88f74-cbe7-4134-dcd8-b2229f2291b1"
      },
      "source": [
        "data_s2.corr().loc[\"cholesterol\", \"exercise\"].round(3)"
      ],
      "execution_count": null,
      "outputs": [
        {
          "output_type": "execute_result",
          "data": {
            "image/png": "[encoded data removed]",
            "text/latex": "$\\displaystyle 0.343$",
            "text/plain": [
              "0.343"
            ]
          },
          "metadata": {},
          "execution_count": 21
        }
      ]
    },
    {
      "cell_type": "code",
      "metadata": {
        "colab": {
          "base_uri": "https://localhost:8080/"
        },
        "id": "CHCCGmIKPuXR",
        "outputId": "12d16b81-2491-44b4-f560-c9116c62ec73"
      },
      "source": [
        "data_s2.groupby(\"exercise\")[\"cholesterol\"].mean()"
      ],
      "execution_count": null,
      "outputs": [
        {
          "output_type": "execute_result",
          "data": {
            "text/plain": [
              "exercise\n",
              "False    3.256\n",
              "True     4.692\n",
              "Name: cholesterol, dtype: float64"
            ]
          },
          "metadata": {},
          "execution_count": 22
        }
      ]
    },
    {
      "cell_type": "code",
      "metadata": {
        "colab": {
          "base_uri": "https://localhost:8080/",
          "height": 37
        },
        "id": "hFKbj9JqPuXR",
        "outputId": "a36f5fcf-c8fc-4254-90fb-2b9658d90fb3"
      },
      "source": [
        "observed_effect_s2 = data_s2.groupby(\"exercise\")[\"cholesterol\"].mean().diff().loc[True]\n",
        "observed_effect_s2.round(3)"
      ],
      "execution_count": null,
      "outputs": [
        {
          "output_type": "execute_result",
          "data": {
            "image/png": "[encoded data removed]",
            "text/latex": "$\\displaystyle 1.435$",
            "text/plain": [
              "1.435"
            ]
          },
          "metadata": {},
          "execution_count": 23
        }
      ]
    },
    {
      "cell_type": "code",
      "metadata": {
        "colab": {
          "base_uri": "https://localhost:8080/"
        },
        "id": "I2xH4lrePuXR",
        "outputId": "9f609821-141f-4cc4-8fd4-43fdc0c0ac3d"
      },
      "source": [
        "ttest_ind(data_s2.loc[data_s2[\"exercise\"], \"cholesterol\"].values, data_s2.loc[~data_s1[\"exercise\"], \"cholesterol\"].values)"
      ],
      "execution_count": null,
      "outputs": [
        {
          "output_type": "execute_result",
          "data": {
            "text/plain": [
              "Ttest_indResult(statistic=11.522832599963817, pvalue=6.244220672354221e-29)"
            ]
          },
          "metadata": {},
          "execution_count": 24
        }
      ]
    },
    {
      "cell_type": "markdown",
      "metadata": {
        "id": "hkICOc1MPuXR"
      },
      "source": [
        "A t-test confirms that the correlation is also statistically significant with p-value < 0.001."
      ]
    },
    {
      "cell_type": "markdown",
      "metadata": {
        "id": "pdJqba--PuXS"
      },
      "source": [
        "## Causal Inference\n",
        "\n",
        "Let's use propensity score matching like before to see if it's able to estimate the real causal effect between exercise and cholesterol in this scenario (should be close to 0). \n"
      ]
    },
    {
      "cell_type": "code",
      "metadata": {
        "colab": {
          "base_uri": "https://localhost:8080/"
        },
        "id": "nBZpXZwuPuXS",
        "outputId": "e0a8a0c1-f08a-4e59-a784-bc195b84a763"
      },
      "source": [
        "model = CausalModel(\n",
        "        data=data_s2,\n",
        "        treatment=\"exercise\",\n",
        "        outcome=\"cholesterol\",\n",
        "        graph=graph_s.replace('\\n', '').strip()\n",
        "    )\n",
        "\n",
        "# Identify causal effect and return target estimands\n",
        "identified_estimand = model.identify_effect(proceed_when_unidentifiable=True)\n",
        "\n",
        "# Estimate the target estimand using a statistical method. Propensity score stratification.\n",
        "estimate = model.estimate_effect(identified_estimand,\n",
        "                                  method_name=\"backdoor.propensity_score_stratification\",\n",
        "                                  target_units=\"ate\",\n",
        "                                  test_significance=False,\n",
        "                                  confidence_intervals='bootstrap',\n",
        "                                  method_params={\"num_strata\":100, \"clipping_threshold\":3, \"num_simulations\":100})\n",
        "\n",
        "estimated_effect_s2 = estimate.value\n",
        "estimated_effect_c1_s2 = estimate.get_confidence_intervals()\n",
        "\n",
        "print(f\"Estimated causal effect: {estimated_effect_s2:0.3g}; \"\n",
        "  f\"95% conf. int.: ({estimated_effect_c1_s2[0]:0.3g}, {estimated_effect_c1_s2[1]:0.3g})\")\n",
        "print(f\"Actual causal effect: {actual_effect_s2}\")"
      ],
      "execution_count": null,
      "outputs": [
        {
          "output_type": "stream",
          "name": "stdout",
          "text": [
            "Estimated causal effect: 0.0373; 95% conf. int.: (-0.235, 0.209)\n",
            "Actual causal effect: 0.0\n"
          ]
        }
      ]
    },
    {
      "cell_type": "markdown",
      "metadata": {
        "id": "v6J9y41gPuXT"
      },
      "source": [
        "Indeed, the estimated causal effect is correclty close to zero (confirmed also by the confidence interval including zero).\n",
        "\n",
        "Again, what we would have thought being a positive relationship between exercise and cholesterol (and this time even a stronger one than in the first scenario), does not exist in reality; the positive correlation we had observed was entirely due to the effect of the confounding factors. "
      ]
    },
    {
      "cell_type": "code",
      "metadata": {
        "id": "_4hUEiuUaRSr"
      },
      "source": [
        ""
      ],
      "execution_count": null,
      "outputs": []
    }
  ]
}